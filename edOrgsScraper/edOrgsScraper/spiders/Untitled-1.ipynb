{
 "cells": [
  {
   "cell_type": "code",
   "execution_count": 2,
   "metadata": {},
   "outputs": [],
   "source": [
    "import pandas as pd\n",
    "import json"
   ]
  },
  {
   "cell_type": "code",
   "execution_count": 4,
   "metadata": {},
   "outputs": [
    {
     "data": {
      "text/plain": [
       "np.int64(1)"
      ]
     },
     "execution_count": 4,
     "metadata": {},
     "output_type": "execute_result"
    }
   ],
   "source": [
    "pd.read_json(\"/Users/daniellancet/Desktop/scrapy_install/EdScraper/edOrgsScraper/edOrgsScraper/spiders/test2.json\")[\"url\"].str.contains(\"mission\").sum()"
   ]
  },
  {
   "cell_type": "code",
   "execution_count": 10,
   "metadata": {},
   "outputs": [
    {
     "data": {
      "text/html": [
       "<div>\n",
       "<style scoped>\n",
       "    .dataframe tbody tr th:only-of-type {\n",
       "        vertical-align: middle;\n",
       "    }\n",
       "\n",
       "    .dataframe tbody tr th {\n",
       "        vertical-align: top;\n",
       "    }\n",
       "\n",
       "    .dataframe thead th {\n",
       "        text-align: right;\n",
       "    }\n",
       "</style>\n",
       "<table border=\"1\" class=\"dataframe\">\n",
       "  <thead>\n",
       "    <tr style=\"text-align: right;\">\n",
       "      <th></th>\n",
       "      <th>Unnamed: 0</th>\n",
       "      <th>urls</th>\n",
       "      <th>ein</th>\n",
       "    </tr>\n",
       "  </thead>\n",
       "  <tbody>\n",
       "    <tr>\n",
       "      <th>0</th>\n",
       "      <td>98</td>\n",
       "      <td>http://www.narst.org/</td>\n",
       "      <td>421047684</td>\n",
       "    </tr>\n",
       "    <tr>\n",
       "      <th>1</th>\n",
       "      <td>256</td>\n",
       "      <td>http://www.grassrootspolicy.org/</td>\n",
       "      <td>521846313</td>\n",
       "    </tr>\n",
       "    <tr>\n",
       "      <th>2</th>\n",
       "      <td>63</td>\n",
       "      <td>http://asterafoundation.org/</td>\n",
       "      <td>270221149</td>\n",
       "    </tr>\n",
       "    <tr>\n",
       "      <th>3</th>\n",
       "      <td>20</td>\n",
       "      <td>http://www.mideastcenter.org/</td>\n",
       "      <td>824320484</td>\n",
       "    </tr>\n",
       "    <tr>\n",
       "      <th>4</th>\n",
       "      <td>81</td>\n",
       "      <td>http://www.opendatawatch.com/</td>\n",
       "      <td>463036686</td>\n",
       "    </tr>\n",
       "    <tr>\n",
       "      <th>5</th>\n",
       "      <td>247</td>\n",
       "      <td>https://www.learnscitech.org/</td>\n",
       "      <td>843334884</td>\n",
       "    </tr>\n",
       "    <tr>\n",
       "      <th>6</th>\n",
       "      <td>24</td>\n",
       "      <td>http://mbtaonline.org/</td>\n",
       "      <td>10513594</td>\n",
       "    </tr>\n",
       "    <tr>\n",
       "      <th>7</th>\n",
       "      <td>115</td>\n",
       "      <td>https://www.effective-ed.org/</td>\n",
       "      <td>465180510</td>\n",
       "    </tr>\n",
       "    <tr>\n",
       "      <th>8</th>\n",
       "      <td>231</td>\n",
       "      <td>http://www.scopela.org/</td>\n",
       "      <td>954635737</td>\n",
       "    </tr>\n",
       "    <tr>\n",
       "      <th>9</th>\n",
       "      <td>73</td>\n",
       "      <td>http://www.edexcelencia.org/</td>\n",
       "      <td>200927912</td>\n",
       "    </tr>\n",
       "  </tbody>\n",
       "</table>\n",
       "</div>"
      ],
      "text/plain": [
       "   Unnamed: 0                              urls        ein\n",
       "0          98             http://www.narst.org/  421047684\n",
       "1         256  http://www.grassrootspolicy.org/  521846313\n",
       "2          63      http://asterafoundation.org/  270221149\n",
       "3          20     http://www.mideastcenter.org/  824320484\n",
       "4          81     http://www.opendatawatch.com/  463036686\n",
       "5         247     https://www.learnscitech.org/  843334884\n",
       "6          24            http://mbtaonline.org/   10513594\n",
       "7         115     https://www.effective-ed.org/  465180510\n",
       "8         231           http://www.scopela.org/  954635737\n",
       "9          73      http://www.edexcelencia.org/  200927912"
      ]
     },
     "execution_count": 10,
     "metadata": {},
     "output_type": "execute_result"
    }
   ],
   "source": [
    "pd.read_csv(\"/Users/daniellancet/Desktop/scrapy_install/EdScraper/edOrgsScraper/edOrgsScraper/test.csv\").head(10)"
   ]
  },
  {
   "cell_type": "code",
   "execution_count": 13,
   "metadata": {},
   "outputs": [
    {
     "data": {
      "text/plain": [
       "['https://narst.org/',\n",
       " 'https://grassrootspowerproject.org/',\n",
       " 'http://www.mideastcenter.org/',\n",
       " 'https://opendatawatch.com/',\n",
       " 'https://learnscitech.org/',\n",
       " 'https://mbtaonline.org/',\n",
       " 'https://www.effective-ed.org/',\n",
       " 'https://scopela.org/',\n",
       " 'https://www.edexcelencia.org/']"
      ]
     },
     "execution_count": 13,
     "metadata": {},
     "output_type": "execute_result"
    }
   ],
   "source": [
    "clean_url_lst = [\"https://narst.org/\",\n",
    "\"https://grassrootspowerproject.org/\",\n",
    "\"http://www.mideastcenter.org/\",\n",
    "\"https://opendatawatch.com/\",\n",
    "\"https://learnscitech.org/\",\n",
    "\"https://mbtaonline.org/\",\n",
    "\"https://www.effective-ed.org/\",\n",
    "\"https://scopela.org/\",\n",
    "\"https://www.edexcelencia.org/\"]\n",
    "\n",
    "\n",
    "\n",
    "\n",
    "\n",
    "\n"
   ]
  }
 ],
 "metadata": {
  "kernelspec": {
   "display_name": "scrapy_install",
   "language": "python",
   "name": "python3"
  },
  "language_info": {
   "codemirror_mode": {
    "name": "ipython",
    "version": 3
   },
   "file_extension": ".py",
   "mimetype": "text/x-python",
   "name": "python",
   "nbconvert_exporter": "python",
   "pygments_lexer": "ipython3",
   "version": "3.12.2"
  }
 },
 "nbformat": 4,
 "nbformat_minor": 2
}
